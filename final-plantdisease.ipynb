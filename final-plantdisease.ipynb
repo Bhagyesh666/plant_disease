{
 "cells": [
  {
   "cell_type": "code",
   "execution_count": 1,
   "metadata": {
    "execution": {
     "iopub.execute_input": "2023-04-06T03:12:08.882472Z",
     "iopub.status.busy": "2023-04-06T03:12:08.881927Z",
     "iopub.status.idle": "2023-04-06T03:12:17.157453Z",
     "shell.execute_reply": "2023-04-06T03:12:17.156360Z",
     "shell.execute_reply.started": "2023-04-06T03:12:08.882442Z"
    }
   },
   "outputs": [],
   "source": [
    "# Import OS module\n",
    "import os\n",
    "\n",
    "# Imports\n",
    "import numpy as np\n",
    "import pandas as pd\n",
    "\n",
    "# Visualization\n",
    "import matplotlib.pyplot as plt\n",
    "\n",
    "# Tensorflow\n",
    "import tensorflow as tf\n",
    "from tensorflow import keras\n",
    "from tensorflow.keras import callbacks, layers, Model\n",
    "from tensorflow.keras.preprocessing.image import ImageDataGenerator\n",
    "\n",
    "# Notebook magic\n",
    "%matplotlib inline"
   ]
  },
  {
   "cell_type": "code",
   "execution_count": 2,
   "metadata": {
    "execution": {
     "iopub.execute_input": "2023-04-06T03:12:31.096949Z",
     "iopub.status.busy": "2023-04-06T03:12:31.096246Z",
     "iopub.status.idle": "2023-04-06T03:12:31.103653Z",
     "shell.execute_reply": "2023-04-06T03:12:31.102231Z",
     "shell.execute_reply.started": "2023-04-06T03:12:31.096914Z"
    }
   },
   "outputs": [],
   "source": [
    "# Configure variables for Transfer learning\n",
    "image_size = 224\n",
    "target_size = (image_size, image_size)\n",
    "input_shape = (image_size, image_size, 3)\n",
    "grid_shape = (1, image_size, image_size, 3)\n",
    "\n",
    "batch_size = 32"
   ]
  },
  {
   "cell_type": "code",
   "execution_count": 3,
   "metadata": {
    "execution": {
     "iopub.execute_input": "2023-04-06T03:12:32.141684Z",
     "iopub.status.busy": "2023-04-06T03:12:32.141292Z",
     "iopub.status.idle": "2023-04-06T03:12:32.147673Z",
     "shell.execute_reply": "2023-04-06T03:12:32.146471Z",
     "shell.execute_reply.started": "2023-04-06T03:12:32.141647Z"
    }
   },
   "outputs": [],
   "source": [
    "dataset_root = \"/kaggle/input/new-plant-diseases-dataset/new plant diseases dataset(augmented)/New Plant Diseases Dataset(Augmented)\"\n",
    "\n",
    "train_dir = os.path.join(dataset_root, \"train\")\n",
    "test_dir = os.path.join(dataset_root, \"valid\")"
   ]
  },
  {
   "cell_type": "code",
   "execution_count": 4,
   "metadata": {
    "execution": {
     "iopub.execute_input": "2023-04-06T03:12:32.965993Z",
     "iopub.status.busy": "2023-04-06T03:12:32.965264Z",
     "iopub.status.idle": "2023-04-06T03:13:24.453327Z",
     "shell.execute_reply": "2023-04-06T03:13:24.452286Z",
     "shell.execute_reply.started": "2023-04-06T03:12:32.965953Z"
    }
   },
   "outputs": [
    {
     "name": "stdout",
     "output_type": "stream",
     "text": [
      "Found 70295 images belonging to 38 classes.\n"
     ]
    }
   ],
   "source": [
    "# Define augmentations for train dataset and read the images\n",
    "train_aug = ImageDataGenerator(\n",
    "    # Rescale\n",
    "    rescale=1/255.0,\n",
    "    # Filling for W/H shift\n",
    "    fill_mode=\"nearest\",\n",
    "    # Width and Height shift\n",
    "    width_shift_range=0.2,\n",
    "    height_shift_range=0.2,\n",
    "    # Random zooms\n",
    "    zoom_range=0.2,\n",
    "    # Random Shearing aug\n",
    "    shear_range=0.2,\n",
    ")\n",
    "\n",
    "# Read data from directory\n",
    "train_data = train_aug.flow_from_directory(\n",
    "    train_dir,\n",
    "    target_size=(image_size, image_size),\n",
    "    batch_size=batch_size,\n",
    "    class_mode=\"categorical\"\n",
    ")"
   ]
  },
  {
   "cell_type": "code",
   "execution_count": 5,
   "metadata": {
    "execution": {
     "iopub.execute_input": "2023-04-06T03:13:24.455863Z",
     "iopub.status.busy": "2023-04-06T03:13:24.455496Z",
     "iopub.status.idle": "2023-04-06T03:13:24.464654Z",
     "shell.execute_reply": "2023-04-06T03:13:24.463454Z",
     "shell.execute_reply.started": "2023-04-06T03:13:24.455825Z"
    }
   },
   "outputs": [
    {
     "data": {
      "text/plain": [
       "['Apple___Apple_scab',\n",
       " 'Apple___Black_rot',\n",
       " 'Apple___Cedar_apple_rust',\n",
       " 'Apple___healthy',\n",
       " 'Blueberry___healthy',\n",
       " 'Cherry_(including_sour)___Powdery_mildew',\n",
       " 'Cherry_(including_sour)___healthy',\n",
       " 'Corn_(maize)___Cercospora_leaf_spot Gray_leaf_spot',\n",
       " 'Corn_(maize)___Common_rust_',\n",
       " 'Corn_(maize)___Northern_Leaf_Blight',\n",
       " 'Corn_(maize)___healthy',\n",
       " 'Grape___Black_rot',\n",
       " 'Grape___Esca_(Black_Measles)',\n",
       " 'Grape___Leaf_blight_(Isariopsis_Leaf_Spot)',\n",
       " 'Grape___healthy',\n",
       " 'Orange___Haunglongbing_(Citrus_greening)',\n",
       " 'Peach___Bacterial_spot',\n",
       " 'Peach___healthy',\n",
       " 'Pepper,_bell___Bacterial_spot',\n",
       " 'Pepper,_bell___healthy',\n",
       " 'Potato___Early_blight',\n",
       " 'Potato___Late_blight',\n",
       " 'Potato___healthy',\n",
       " 'Raspberry___healthy',\n",
       " 'Soybean___healthy',\n",
       " 'Squash___Powdery_mildew',\n",
       " 'Strawberry___Leaf_scorch',\n",
       " 'Strawberry___healthy',\n",
       " 'Tomato___Bacterial_spot',\n",
       " 'Tomato___Early_blight',\n",
       " 'Tomato___Late_blight',\n",
       " 'Tomato___Leaf_Mold',\n",
       " 'Tomato___Septoria_leaf_spot',\n",
       " 'Tomato___Spider_mites Two-spotted_spider_mite',\n",
       " 'Tomato___Target_Spot',\n",
       " 'Tomato___Tomato_Yellow_Leaf_Curl_Virus',\n",
       " 'Tomato___Tomato_mosaic_virus',\n",
       " 'Tomato___healthy']"
      ]
     },
     "execution_count": 5,
     "metadata": {},
     "output_type": "execute_result"
    }
   ],
   "source": [
    "# Get the list of categories in training data\n",
    "cats = list(train_data.class_indices.keys())\n",
    "cats"
   ]
  },
  {
   "cell_type": "code",
   "execution_count": 6,
   "metadata": {
    "execution": {
     "iopub.execute_input": "2023-04-06T03:13:24.467108Z",
     "iopub.status.busy": "2023-04-06T03:13:24.466069Z",
     "iopub.status.idle": "2023-04-06T03:13:24.479703Z",
     "shell.execute_reply": "2023-04-06T03:13:24.477998Z",
     "shell.execute_reply.started": "2023-04-06T03:13:24.467056Z"
    }
   },
   "outputs": [
    {
     "name": "stdout",
     "output_type": "stream",
     "text": [
      "Unique Plants are: \n",
      "['Apple', 'Blueberry', 'Cherry_(including_sour)', 'Corn_(maize)', 'Grape', 'Orange', 'Peach', 'Pepper,_bell', 'Potato', 'Raspberry', 'Soybean', 'Squash', 'Strawberry', 'Tomato']\n",
      "Number of plants: 14\n",
      "Number of diseases: 26\n"
     ]
    }
   ],
   "source": [
    "plants = []\n",
    "NumberOfDiseases = 0\n",
    "for plant in cats:\n",
    "    if plant.split('___')[0] not in plants:\n",
    "        plants.append(plant.split('___')[0])\n",
    "    if plant.split('___')[1] != 'healthy':\n",
    "        NumberOfDiseases += 1\n",
    "# unique plants in the dataset\n",
    "print(f\"Unique Plants are: \\n{plants}\")\n",
    "# number of unique plants\n",
    "print(\"Number of plants: {}\".format(len(plants)))\n",
    "# number of unique diseases\n",
    "print(\"Number of diseases: {}\".format(NumberOfDiseases))"
   ]
  },
  {
   "cell_type": "code",
   "execution_count": 7,
   "metadata": {
    "execution": {
     "iopub.execute_input": "2023-04-06T03:13:24.482857Z",
     "iopub.status.busy": "2023-04-06T03:13:24.482423Z",
     "iopub.status.idle": "2023-04-06T03:13:27.665113Z",
     "shell.execute_reply": "2023-04-06T03:13:27.664013Z",
     "shell.execute_reply.started": "2023-04-06T03:13:24.482819Z"
    }
   },
   "outputs": [
    {
     "name": "stdout",
     "output_type": "stream",
     "text": [
      "Found 17572 images belonging to 38 classes.\n"
     ]
    }
   ],
   "source": [
    "# Augmentations for test data\n",
    "test_aug = ImageDataGenerator(\n",
    "    # Rescale\n",
    "    rescale=1/255.0\n",
    ")\n",
    "\n",
    "# Read data from directory\n",
    "test_data = test_aug.flow_from_directory(\n",
    "    test_dir,\n",
    "    target_size=(image_size, image_size),\n",
    "    batch_size=batch_size,\n",
    "    class_mode=\"categorical\"\n",
    ")"
   ]
  },
  {
   "cell_type": "code",
   "execution_count": 8,
   "metadata": {
    "execution": {
     "iopub.execute_input": "2023-04-06T03:13:27.666906Z",
     "iopub.status.busy": "2023-04-06T03:13:27.666566Z",
     "iopub.status.idle": "2023-04-06T03:13:32.102001Z",
     "shell.execute_reply": "2023-04-06T03:13:32.100993Z",
     "shell.execute_reply.started": "2023-04-06T03:13:27.666869Z"
    }
   },
   "outputs": [
    {
     "name": "stdout",
     "output_type": "stream",
     "text": [
      "Downloading data from https://storage.googleapis.com/tensorflow/keras-applications/mobilenet_v2/mobilenet_v2_weights_tf_dim_ordering_tf_kernels_1.0_224_no_top.h5\n",
      "9406464/9406464 [==============================] - 0s 0us/step\n"
     ]
    }
   ],
   "source": [
    "# Load the base model\n",
    "mbnet_v2 = keras.applications.MobileNetV2(\n",
    "    weights=\"imagenet\",\n",
    "    include_top=False,\n",
    "    input_shape=input_shape\n",
    ")\n",
    "\n",
    "# Stop from being trainable\n",
    "mbnet_v2.trainable = False"
   ]
  },
  {
   "cell_type": "code",
   "execution_count": 9,
   "metadata": {
    "execution": {
     "iopub.execute_input": "2023-04-06T03:13:32.103938Z",
     "iopub.status.busy": "2023-04-06T03:13:32.103547Z",
     "iopub.status.idle": "2023-04-06T03:13:32.545010Z",
     "shell.execute_reply": "2023-04-06T03:13:32.543984Z",
     "shell.execute_reply.started": "2023-04-06T03:13:32.103899Z"
    }
   },
   "outputs": [
    {
     "name": "stdout",
     "output_type": "stream",
     "text": [
      "Model: \"model\"\n",
      "_________________________________________________________________\n",
      " Layer (type)                Output Shape              Param #   \n",
      "=================================================================\n",
      " input_2 (InputLayer)        [(None, 224, 224, 3)]     0         \n",
      "                                                                 \n",
      " mobilenetv2_1.00_224 (Funct  (None, 7, 7, 1280)       2257984   \n",
      " ional)                                                          \n",
      "                                                                 \n",
      " global_average_pooling2d (G  (None, 1280)             0         \n",
      " lobalAveragePooling2D)                                          \n",
      "                                                                 \n",
      " dropout (Dropout)           (None, 1280)              0         \n",
      "                                                                 \n",
      " dense (Dense)               (None, 38)                48678     \n",
      "                                                                 \n",
      "=================================================================\n",
      "Total params: 2,306,662\n",
      "Trainable params: 48,678\n",
      "Non-trainable params: 2,257,984\n",
      "_________________________________________________________________\n"
     ]
    }
   ],
   "source": [
    "# Define the layers\n",
    "inputs = keras.Input(shape=input_shape)\n",
    "\n",
    "# Get the layer\n",
    "x = mbnet_v2(inputs, training = False)\n",
    "\n",
    "# Stack layers further\n",
    "x = tf.keras.layers.GlobalAveragePooling2D()(x)\n",
    "x = tf.keras.layers.Dropout(0.2)(x)\n",
    "x = tf.keras.layers.Dense(len(cats), activation=\"softmax\")(x)\n",
    "\n",
    "# Combine the model\n",
    "model = Model(inputs=inputs, outputs=x)\n",
    "\n",
    "# Summary\n",
    "model.summary()"
   ]
  },
  {
   "cell_type": "code",
   "execution_count": 10,
   "metadata": {
    "execution": {
     "iopub.execute_input": "2023-04-06T03:13:32.547175Z",
     "iopub.status.busy": "2023-04-06T03:13:32.546785Z",
     "iopub.status.idle": "2023-04-06T03:13:32.568969Z",
     "shell.execute_reply": "2023-04-06T03:13:32.568063Z",
     "shell.execute_reply.started": "2023-04-06T03:13:32.547137Z"
    }
   },
   "outputs": [],
   "source": [
    "# Compile\n",
    "model.compile(optimizer=\"adam\", loss=\"categorical_crossentropy\", metrics=[\"accuracy\"])\n",
    "\n",
    "# Define callbacks to use\n",
    "early_stopping_cb = callbacks.EarlyStopping(monitor=\"loss\", patience=3)"
   ]
  },
  {
   "cell_type": "code",
   "execution_count": 11,
   "metadata": {
    "execution": {
     "iopub.execute_input": "2023-04-06T03:13:38.034756Z",
     "iopub.status.busy": "2023-04-06T03:13:38.033996Z",
     "iopub.status.idle": "2023-04-06T04:05:52.659536Z",
     "shell.execute_reply": "2023-04-06T04:05:52.658463Z",
     "shell.execute_reply.started": "2023-04-06T03:13:38.034717Z"
    }
   },
   "outputs": [
    {
     "name": "stdout",
     "output_type": "stream",
     "text": [
      "Epoch 1/25\n",
      "150/150 [==============================] - 206s 1s/step - loss: 1.9380 - accuracy: 0.4988 - val_loss: 0.9658 - val_accuracy: 0.7641\n",
      "Epoch 2/25\n",
      "150/150 [==============================] - 126s 843ms/step - loss: 0.8413 - accuracy: 0.7727 - val_loss: 0.6576 - val_accuracy: 0.8175\n",
      "Epoch 3/25\n",
      "150/150 [==============================] - 126s 844ms/step - loss: 0.6780 - accuracy: 0.8029 - val_loss: 0.5440 - val_accuracy: 0.8443\n",
      "Epoch 4/25\n",
      "150/150 [==============================] - 129s 862ms/step - loss: 0.5584 - accuracy: 0.8375 - val_loss: 0.4841 - val_accuracy: 0.8566\n",
      "Epoch 5/25\n",
      "150/150 [==============================] - 126s 840ms/step - loss: 0.4960 - accuracy: 0.8508 - val_loss: 0.4506 - val_accuracy: 0.8660\n",
      "Epoch 6/25\n",
      "150/150 [==============================] - 124s 827ms/step - loss: 0.4640 - accuracy: 0.8587 - val_loss: 0.3870 - val_accuracy: 0.8844\n",
      "Epoch 7/25\n",
      "150/150 [==============================] - 124s 827ms/step - loss: 0.4310 - accuracy: 0.8648 - val_loss: 0.3679 - val_accuracy: 0.8896\n",
      "Epoch 8/25\n",
      "150/150 [==============================] - 126s 845ms/step - loss: 0.4118 - accuracy: 0.8754 - val_loss: 0.3455 - val_accuracy: 0.8961\n",
      "Epoch 9/25\n",
      "150/150 [==============================] - 122s 815ms/step - loss: 0.4024 - accuracy: 0.8783 - val_loss: 0.3131 - val_accuracy: 0.9060\n",
      "Epoch 10/25\n",
      "150/150 [==============================] - 122s 813ms/step - loss: 0.3753 - accuracy: 0.8790 - val_loss: 0.3582 - val_accuracy: 0.8912\n",
      "Epoch 11/25\n",
      "150/150 [==============================] - 124s 825ms/step - loss: 0.3829 - accuracy: 0.8758 - val_loss: 0.3009 - val_accuracy: 0.9094\n",
      "Epoch 12/25\n",
      "150/150 [==============================] - 121s 810ms/step - loss: 0.3550 - accuracy: 0.8835 - val_loss: 0.3368 - val_accuracy: 0.8965\n",
      "Epoch 13/25\n",
      "150/150 [==============================] - 131s 876ms/step - loss: 0.3446 - accuracy: 0.8948 - val_loss: 0.3097 - val_accuracy: 0.9025\n",
      "Epoch 14/25\n",
      "150/150 [==============================] - 120s 800ms/step - loss: 0.3277 - accuracy: 0.8923 - val_loss: 0.3264 - val_accuracy: 0.8988\n",
      "Epoch 15/25\n",
      "150/150 [==============================] - 119s 796ms/step - loss: 0.3327 - accuracy: 0.8938 - val_loss: 0.2761 - val_accuracy: 0.9137\n",
      "Epoch 16/25\n",
      "150/150 [==============================] - 118s 785ms/step - loss: 0.3221 - accuracy: 0.8967 - val_loss: 0.2731 - val_accuracy: 0.9161\n",
      "Epoch 17/25\n",
      "150/150 [==============================] - 118s 788ms/step - loss: 0.3300 - accuracy: 0.8942 - val_loss: 0.2947 - val_accuracy: 0.9093\n",
      "Epoch 18/25\n",
      "150/150 [==============================] - 115s 771ms/step - loss: 0.3203 - accuracy: 0.8983 - val_loss: 0.2920 - val_accuracy: 0.9053\n",
      "Epoch 19/25\n",
      "150/150 [==============================] - 114s 763ms/step - loss: 0.3161 - accuracy: 0.8954 - val_loss: 0.2902 - val_accuracy: 0.9048\n",
      "Epoch 20/25\n",
      "150/150 [==============================] - 117s 782ms/step - loss: 0.3034 - accuracy: 0.8988 - val_loss: 0.2668 - val_accuracy: 0.9153\n",
      "Epoch 21/25\n",
      "150/150 [==============================] - 114s 764ms/step - loss: 0.3093 - accuracy: 0.9023 - val_loss: 0.2779 - val_accuracy: 0.9112\n",
      "Epoch 22/25\n",
      "150/150 [==============================] - 114s 759ms/step - loss: 0.3065 - accuracy: 0.9004 - val_loss: 0.2573 - val_accuracy: 0.9168\n",
      "Epoch 23/25\n",
      "150/150 [==============================] - 116s 772ms/step - loss: 0.3062 - accuracy: 0.9010 - val_loss: 0.2467 - val_accuracy: 0.9202\n"
     ]
    }
   ],
   "source": [
    "# Num epochs\n",
    "EPOCHS = 25\n",
    "\n",
    "# Train model\n",
    "history = model.fit(\n",
    "    train_data,\n",
    "    validation_data=test_data,\n",
    "    epochs=EPOCHS,\n",
    "    steps_per_epoch=150,\n",
    "    callbacks=[early_stopping_cb]\n",
    ")"
   ]
  },
  {
   "cell_type": "code",
   "execution_count": 12,
   "metadata": {
    "execution": {
     "iopub.execute_input": "2023-04-06T04:27:45.105015Z",
     "iopub.status.busy": "2023-04-06T04:27:45.104109Z",
     "iopub.status.idle": "2023-04-06T04:27:45.360146Z",
     "shell.execute_reply": "2023-04-06T04:27:45.358982Z",
     "shell.execute_reply.started": "2023-04-06T04:27:45.104966Z"
    }
   },
   "outputs": [
    {
     "data": {
      "text/plain": [
       "<matplotlib.legend.Legend at 0x75374424b490>"
      ]
     },
     "execution_count": 12,
     "metadata": {},
     "output_type": "execute_result"
    },
    {
     "data": {
      "image/png": "[encoded data removed]",
      "text/plain": [
       "<Figure size 1000x600 with 1 Axes>"
      ]
     },
     "metadata": {},
     "output_type": "display_data"
    }
   ],
   "source": [
    "acc = history.history['accuracy']\n",
    "val_acc = history.history['val_accuracy']\n",
    "\n",
    "epochs = range(len(acc))\n",
    "\n",
    "fig = plt.figure(figsize=(10,6))\n",
    "plt.plot(epochs,acc,c=\"red\",label=\"Training\")\n",
    "plt.plot(epochs,val_acc,c=\"blue\",label=\"Validation\")\n",
    "plt.xlabel(\"Epochs\")\n",
    "plt.ylabel(\"Accuracy\")\n",
    "plt.legend()"
   ]
  },
  {
   "cell_type": "code",
   "execution_count": 13,
   "metadata": {
    "execution": {
     "iopub.execute_input": "2023-04-06T04:27:47.930441Z",
     "iopub.status.busy": "2023-04-06T04:27:47.929494Z",
     "iopub.status.idle": "2023-04-06T04:27:48.434012Z",
     "shell.execute_reply": "2023-04-06T04:27:48.432992Z",
     "shell.execute_reply.started": "2023-04-06T04:27:47.930391Z"
    }
   },
   "outputs": [
    {
     "data": {
      "text/plain": [
       "<matplotlib.legend.Legend at 0x753744132f10>"
      ]
     },
     "execution_count": 13,
     "metadata": {},
     "output_type": "execute_result"
    },
    {
     "data": {
      "image/png": "[encoded data removed]",
      "text/plain": [
       "<Figure size 1000x600 with 1 Axes>"
      ]
     },
     "metadata": {},
     "output_type": "display_data"
    }
   ],
   "source": [
    "loss = history.history['loss']\n",
    "val_loss = history.history['val_loss']\n",
    "\n",
    "epochs = range(len(loss))\n",
    "\n",
    "fig = plt.figure(figsize=(10,6))\n",
    "plt.plot(epochs,loss,c=\"red\",label=\"Training\")\n",
    "plt.plot(epochs,val_loss,c=\"blue\",label=\"Validation\")\n",
    "plt.xlabel(\"Epochs\")\n",
    "plt.ylabel(\"Loss\")\n",
    "plt.legend()"
   ]
  },
  {
   "cell_type": "code",
   "execution_count": 15,
   "metadata": {
    "execution": {
     "iopub.execute_input": "2023-04-06T04:28:17.605150Z",
     "iopub.status.busy": "2023-04-06T04:28:17.604525Z",
     "iopub.status.idle": "2023-04-06T04:29:26.717966Z",
     "shell.execute_reply": "2023-04-06T04:29:26.716586Z",
     "shell.execute_reply.started": "2023-04-06T04:28:17.605111Z"
    }
   },
   "outputs": [
    {
     "name": "stdout",
     "output_type": "stream",
     "text": [
      "550/550 [==============================] - 69s 125ms/step - loss: 0.2467 - accuracy: 0.9202\n",
      "loss: 24.67%\n"
     ]
    }
   ],
   "source": [
    "scores = model.evaluate(test_data)\n",
    "print(\"%s: %.2f%%\" % (model.metrics_names[0], scores[0]*100))"
   ]
  },
  {
   "cell_type": "code",
   "execution_count": 16,
   "metadata": {
    "execution": {
     "iopub.execute_input": "2023-04-06T04:29:37.160193Z",
     "iopub.status.busy": "2023-04-06T04:29:37.159573Z",
     "iopub.status.idle": "2023-04-06T04:29:37.197138Z",
     "shell.execute_reply": "2023-04-06T04:29:37.195978Z",
     "shell.execute_reply.started": "2023-04-06T04:29:37.160152Z"
    }
   },
   "outputs": [],
   "source": [
    "metrics=[\n",
    "    tf.keras.metrics.Recall(name=\"recall\"),\n",
    "    tf.keras.metrics.Precision(name=\"precision\"),\n",
    "    tf.keras.metrics.TruePositives(name=\"tp\"),\n",
    "    tf.keras.metrics.TrueNegatives(name=\"tn\"),\n",
    "    tf.keras.metrics.FalseNegatives(name=\"fn\"),\n",
    "    tf.keras.metrics.FalsePositives(name=\"fp\"),\n",
    "    tf.keras.metrics.SpecificityAtSensitivity(0.5 ,name=\"spe\"),\n",
    "    tf.keras.metrics.SensitivityAtSpecificity(0.5 ,name=\"sen\"),\n",
    "    \"accuracy\"\n",
    "] "
   ]
  },
  {
   "cell_type": "code",
   "execution_count": 19,
   "metadata": {
    "execution": {
     "iopub.execute_input": "2023-04-06T04:30:41.699500Z",
     "iopub.status.busy": "2023-04-06T04:30:41.699138Z",
     "iopub.status.idle": "2023-04-06T04:31:35.616154Z",
     "shell.execute_reply": "2023-04-06T04:31:35.615162Z",
     "shell.execute_reply.started": "2023-04-06T04:30:41.699468Z"
    }
   },
   "outputs": [
    {
     "name": "stdout",
     "output_type": "stream",
     "text": [
      "550/550 [==============================] - 54s 94ms/step - loss: 0.2467 - recall: 0.9003 - precision: 0.9450 - tp: 15820.0000 - tn: 649244.0000 - fn: 1752.0000 - fp: 920.0000 - spe: 1.0000 - sen: 0.9976 - accuracy: 0.9202\n",
      "loss 0.24674928188323975\n",
      "recall 0.9002959132194519\n",
      "precision 0.945041835308075\n",
      "tp 15820.0\n",
      "tn 649244.0\n",
      "fn 1752.0\n",
      "fp 920.0\n",
      "spe 0.9999769330024719\n",
      "sen 0.9976098537445068\n",
      "accuracy 0.9201570749282837\n",
      "f1_score  0.922126372614632\n"
     ]
    }
   ],
   "source": [
    "# model = tf.keras.models.load_model(r\"/kaggle/working/Models/Model X/weights.25-1.00.tf\", compile=False)\n",
    "\n",
    "optimizer = tf.keras.optimizers.Adam(learning_rate = 0.001, clipvalue=0.1)\n",
    "                                \n",
    "model.compile(loss=\"categorical_crossentropy\", metrics=metrics, optimizer=\"Adam\")\n",
    "evaluation = model.evaluate(test_data)\n",
    "dict_metrics = {}\n",
    "for i, m in enumerate(model.metrics_names):\n",
    "    print(m, evaluation[i])\n",
    "    dict_metrics[m] = evaluation[i]\n",
    "precision  = dict_metrics[\"precision\"]\n",
    "recall = dict_metrics[\"recall\"]\n",
    "\n",
    "f1_score = 2 * (precision * recall) / (precision + recall)\n",
    "print(\"f1_score \",f1_score)\n",
    "dict_metrics[\"f1_score\"] = f1_score"
   ]
  },
  {
   "cell_type": "code",
   "execution_count": 20,
   "metadata": {
    "execution": {
     "iopub.execute_input": "2023-04-06T04:38:17.315332Z",
     "iopub.status.busy": "2023-04-06T04:38:17.314334Z",
     "iopub.status.idle": "2023-04-06T04:38:18.276046Z",
     "shell.execute_reply": "2023-04-06T04:38:18.275015Z",
     "shell.execute_reply.started": "2023-04-06T04:38:17.315294Z"
    }
   },
   "outputs": [
    {
     "data": {
      "image/png": "[encoded data removed]",
      "text/plain": [
       "<Figure size 640x480 with 2 Axes>"
      ]
     },
     "metadata": {},
     "output_type": "display_data"
    }
   ],
   "source": [
    "from sklearn.metrics import confusion_matrix\n",
    "import matplotlib.pyplot as plt\n",
    "import itertools\n",
    "\n",
    "# Define true labels and predicted labels\n",
    "y_true = [1]*15820 + [0]*649244 + [1]*1752 + [0]*920\n",
    "y_pred = [1]*15820 + [1]*920 + [0]*649244 + [1]*1752\n",
    "\n",
    "# Compute confusion matrix\n",
    "cm = confusion_matrix(y_true, y_pred)\n",
    "\n",
    "# Define classes and colormap\n",
    "classes = ['Positive', 'Negative']\n",
    "cmap = plt.cm.Blues\n",
    "\n",
    "# Plot confusion matrix\n",
    "plt.imshow(cm, interpolation='nearest', cmap=cmap)\n",
    "plt.title('Confusion matrix')\n",
    "plt.colorbar()\n",
    "tick_marks = np.arange(len(classes))\n",
    "plt.xticks(tick_marks, classes, rotation=45)\n",
    "plt.yticks(tick_marks, classes)\n",
    "\n",
    "# Normalize the confusion matrix\n",
    "cm_normalized = cm.astype('float') / cm.sum(axis=1)[:, np.newaxis]\n",
    "\n",
    "# Add text annotations\n",
    "thresh = cm.max() / 2.\n",
    "for i, j in itertools.product(range(cm.shape[0]), range(cm.shape[1])):\n",
    "    plt.text(j, i, \"{:.2f}\".format(cm_normalized[i, j]),\n",
    "             horizontalalignment=\"center\",\n",
    "             color=\"white\" if cm[i, j] > thresh else \"black\")\n",
    "\n",
    "# Add axis labels and save the figure\n",
    "plt.tight_layout()\n",
    "plt.ylabel('True label')\n",
    "plt.xlabel('Predicted label')\n",
    "plt.show()"
   ]
  },
  {
   "cell_type": "code",
   "execution_count": 17,
   "metadata": {
    "execution": {
     "iopub.execute_input": "2023-04-05T16:52:32.384113Z",
     "iopub.status.busy": "2023-04-05T16:52:32.383753Z",
     "iopub.status.idle": "2023-04-05T16:52:32.704716Z",
     "shell.execute_reply": "2023-04-05T16:52:32.703395Z",
     "shell.execute_reply.started": "2023-04-05T16:52:32.384083Z"
    }
   },
   "outputs": [],
   "source": [
    "model.save(\"plant_disease_detection.h5\")"
   ]
  },
  {
   "cell_type": "code",
   "execution_count": 18,
   "metadata": {
    "execution": {
     "iopub.execute_input": "2023-04-05T16:52:33.771063Z",
     "iopub.status.busy": "2023-04-05T16:52:33.770024Z",
     "iopub.status.idle": "2023-04-05T16:53:10.053451Z",
     "shell.execute_reply": "2023-04-05T16:53:10.052376Z",
     "shell.execute_reply.started": "2023-04-05T16:52:33.771014Z"
    }
   },
   "outputs": [],
   "source": [
    "import tensorflow as tf\n",
    "\n",
    "# Convert the model\n",
    "converter = tf.lite.TFLiteConverter.from_keras_model(model)\n",
    "tflite_model = converter.convert()\n",
    "\n",
    "# Save the TFLite model\n",
    "with open('model.tflite', 'wb') as f:\n",
    "    f.write(tflite_model)"
   ]
  },
  {
   "cell_type": "code",
   "execution_count": null,
   "metadata": {},
   "outputs": [],
   "source": []
  }
 ],
 "metadata": {
  "kernelspec": {
   "display_name": "Python 3 (ipykernel)",
   "language": "python",
   "name": "python3"
  },
  "language_info": {
   "codemirror_mode": {
    "name": "ipython",
    "version": 3
   },
   "file_extension": ".py",
   "mimetype": "text/x-python",
   "name": "python",
   "nbconvert_exporter": "python",
   "pygments_lexer": "ipython3",
   "version": "3.9.13"
  }
 },
 "nbformat": 4,
 "nbformat_minor": 4
}
